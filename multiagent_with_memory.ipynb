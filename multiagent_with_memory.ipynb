{
 "cells": [
  {
   "attachments": {},
   "cell_type": "markdown",
   "metadata": {},
   "source": [
    "Enabled vectore-store memory. Cover two use cases in demo:\n",
    "- LLM extract key info about user preferences, and give personalized recommendations -> If user killed a session and started a new session, LLM remember user preference without needing to re-prompt\n",
    "- Built a filter so LLM does not rememeber PII (names, address, etc)"
   ]
  },
  {
   "cell_type": "code",
   "execution_count": 1,
   "metadata": {},
   "outputs": [],
   "source": [
    "# Set up environment - Need OpenAI and Langchain API keys\n",
    "\n",
    "import getpass\n",
    "import os\n",
    "\n",
    "\n",
    "def _set_if_undefined(var: str):\n",
    "    if not os.environ.get(var):\n",
    "        os.environ[var] = getpass.getpass(f\"Please provide your {var}\")\n",
    "\n",
    "\n",
    "_set_if_undefined(\"OPENAI_API_KEY\")\n",
    "_set_if_undefined(\"LANGCHAIN_API_KEY\")\n"
   ]
  },
  {
   "cell_type": "code",
   "execution_count": 2,
   "metadata": {},
   "outputs": [],
   "source": [
    "import json\n",
    "from typing import List, Literal, Optional\n",
    "\n",
    "import tiktoken\n",
    "from langchain_community.tools.tavily_search import TavilySearchResults\n",
    "from langchain_core.documents import Document\n",
    "from langchain_core.embeddings import Embeddings\n",
    "from langchain_core.messages import get_buffer_string\n",
    "from langchain_core.prompts import ChatPromptTemplate\n",
    "from langchain_core.runnables import RunnableConfig\n",
    "from langchain_core.tools import tool\n",
    "from langchain_core.vectorstores import InMemoryVectorStore\n",
    "from langchain_openai import ChatOpenAI\n",
    "from langchain_openai.embeddings import OpenAIEmbeddings\n",
    "from langgraph.checkpoint.memory import MemorySaver\n",
    "from langgraph.graph import END, START, MessagesState, StateGraph\n",
    "from langgraph.prebuilt import ToolNode"
   ]
  },
  {
   "cell_type": "code",
   "execution_count": 7,
   "metadata": {},
   "outputs": [],
   "source": [
    "import chromadb\n",
    "import chromadb.utils.embedding_functions as embedding_functions\n",
    "\n",
    "persist_directory = '/Users/kaiding/Documents/MIDS/Capstone'\n",
    "emb_fn = embedding_functions.OpenAIEmbeddingFunction(api_key=os.environ[\"OPENAI_API_KEY\"])\n",
    "vectordb = chromadb.PersistentClient(path=persist_directory)\n",
    "\n",
    "#vectordb.delete_collection(\"recall_vectore_store\")\n",
    "#vectordb.delete_collection(\"vectore_store\")"
   ]
  },
  {
   "cell_type": "code",
   "execution_count": 8,
   "metadata": {},
   "outputs": [],
   "source": [
    "# create vector collection\n",
    "recall_vector_store = vectordb.create_collection(\n",
    "    name=\"recall_vectore_store\", \n",
    "    embedding_function=emb_fn)"
   ]
  },
  {
   "cell_type": "code",
   "execution_count": 9,
   "metadata": {},
   "outputs": [
    {
     "data": {
      "text/plain": [
       "Collection(id=c7f27668-964a-497d-9c85-480d2c939fc1, name=recall_vectore_store)"
      ]
     },
     "execution_count": 9,
     "metadata": {},
     "output_type": "execute_result"
    }
   ],
   "source": [
    "recall_vector_store"
   ]
  },
  {
   "cell_type": "code",
   "execution_count": 10,
   "metadata": {},
   "outputs": [],
   "source": [
    "# Helper function to create agent team\n",
    "from langchain_core.output_parsers.openai_functions import JsonOutputFunctionsParser\n",
    "from langchain_core.prompts import ChatPromptTemplate, MessagesPlaceholder\n",
    "from langchain.agents import AgentExecutor, create_openai_tools_agent\n",
    "from langchain_core.messages import BaseMessage, HumanMessage, AIMessage\n",
    "\n",
    "def create_agent(llm: ChatOpenAI, tools: list, system_prompt: str):\n",
    "    # Each worker node will be given a name and some tools.\n",
    "    prompt = ChatPromptTemplate.from_messages(\n",
    "        [\n",
    "            (\n",
    "                \"system\",\n",
    "                system_prompt,\n",
    "            ),\n",
    "            MessagesPlaceholder(variable_name=\"messages\"),\n",
    "        ]\n",
    "    )\n",
    "    llm_with_tools = llm.bind_tools(tools)\n",
    "    agent_chain = (\n",
    "        prompt |\n",
    "        llm_with_tools\n",
    "    )\n",
    "    return agent_chain"
   ]
  },
  {
   "cell_type": "code",
   "execution_count": 11,
   "metadata": {},
   "outputs": [],
   "source": [
    "# Create agent graph state, which is set of attributes shared by all agents\n",
    "\n",
    "import functools\n",
    "import operator\n",
    "from typing import Sequence, TypedDict, List\n",
    "from langchain_core.prompts import ChatPromptTemplate, MessagesPlaceholder\n",
    "from langgraph.graph import END, StateGraph, START\n",
    "from typing import Annotated\n",
    "\n",
    "# The agent state is the input to each node in the graph\n",
    "class AgentState(TypedDict):\n",
    "    # The annotation tells the graph that new messages will always\n",
    "    # be added to the current states\n",
    "    messages: Annotated[Sequence[BaseMessage], operator.add]\n",
    "    recall_memories: Annotated[Sequence[str], operator.add]\n",
    "    # The 'next' field indicates where to route to next\n",
    "    next: str"
   ]
  },
  {
   "cell_type": "code",
   "execution_count": 12,
   "metadata": {},
   "outputs": [],
   "source": [
    "# Define agent nodes and human feedback nodes\n",
    "\n",
    "def agent_node(state, agent, name):\n",
    "    #print(f\"Config input: {config}\")\n",
    "    # create tagging for memory\n",
    "    recall_str = (\n",
    "        \"<recall_memory>\\n\" + \"\\n\".join(state[\"recall_memories\"]) + \"\\n</recall_memory>\"\n",
    "    )\n",
    "    result = agent.invoke({\n",
    "        \"messages\": state[\"messages\"],\n",
    "        \"recall_memories\": recall_str,\n",
    "    })\n",
    "    return {\"messages\": [result]}\n",
    "\n",
    "#def human_node(state, name):\n",
    "##    feedback = input(\"Please provide feedback:\")\n",
    "##    return {\"human_feedback\": [HumanMessage(content=feedback, name=name)]}"
   ]
  },
  {
   "cell_type": "code",
   "execution_count": 13,
   "metadata": {},
   "outputs": [],
   "source": [
    "# Build agent supervisor who directs workflow to the team of experts based on user query\n",
    "\n",
    "members = [\"storyteller\", \"critic\",\"visual_artist\"]\n",
    "options = members\n",
    "\n",
    "system_prompt = (\n",
    "    \"You are a supervisor tasked with managing a conversation between the\"\n",
    "    \" following workers: {members}. Given the following user request,\"\n",
    "    \" respond with the worker to act next.\"\n",
    "    \"Ask storyteller if user wants to build a storyline or find more inspiration\"\n",
    "    \"Ask critic if user wants to improve their work, get feedback on it, or ask about specific art techniques.\"\n",
    "    \"Also ask critic if users want to know about art history or art theory. For example, color theory, or stories about artists\"\n",
    "    \"Ask visual_artist if user specifically wants to visualize, don't ask visual_artist for text feedback.\"\n",
    ")\n",
    "\n",
    "# Using openai function calling to make llm output more specific\n",
    "json_schema = {\n",
    "    \"name\": \"route\",\n",
    "    \"description\": \"Select the next role.\",\n",
    "    \"parameters\": {\n",
    "        \"title\": \"routeSchema\",\n",
    "        \"type\": \"object\",\n",
    "        \"properties\": {\n",
    "            \"next\": {\n",
    "                \"title\": \"Next\",\n",
    "                \"anyOf\": [\n",
    "                    {\"enum\": options},\n",
    "                ],\n",
    "            }\n",
    "        },\n",
    "        \"required\": [\"next\"],\n",
    "    },\n",
    "}\n",
    "prompt = ChatPromptTemplate.from_messages(\n",
    "    [\n",
    "        (\"system\", system_prompt),\n",
    "        MessagesPlaceholder(variable_name=\"messages\"),\n",
    "        (\n",
    "            \"system\",\n",
    "            \"Given the conversation above, who should act next?\"\n",
    "            \" Select one of: {options}\",\n",
    "        ),\n",
    "    ]\n",
    ").partial(options=str(options), members=\", \".join(members))\n",
    "\n",
    "llm = ChatOpenAI(model=\"gpt-4o-mini\")\n",
    "\n",
    "supervisor_chain = (\n",
    "    prompt\n",
    "    | llm.with_structured_output(json_schema)\n",
    ")"
   ]
  },
  {
   "cell_type": "code",
   "execution_count": 14,
   "metadata": {},
   "outputs": [
    {
     "data": {
      "text/plain": [
       "{'next': 'critic'}"
      ]
     },
     "execution_count": 14,
     "metadata": {},
     "output_type": "execute_result"
    }
   ],
   "source": [
    "# test supervisor\n",
    "# Test supervisor\n",
    "input_messages = [\n",
    "    {\"role\": \"user\", \"content\": [\n",
    "        {\"type\": \"text\", \"text\": \"Here's my drawing. I want to improve it. Can you help me?\"},\n",
    "        {\n",
    "          \"type\": \"image_url\",\n",
    "          \"image_url\": {\n",
    "            \"url\": \"https://huggingface.co/datasets/jacob314159/child_drawings/resolve/main/205490118.jpeg\",\n",
    "            },\n",
    "        },\n",
    "    ]}\n",
    "]\n",
    "supervisor_chain.invoke({\"messages\": input_messages})"
   ]
  },
  {
   "cell_type": "code",
   "execution_count": 16,
   "metadata": {},
   "outputs": [
    {
     "name": "stdout",
     "output_type": "stream",
     "text": [
      "1.26.4\n"
     ]
    }
   ],
   "source": [
    "# scrubadub requires numpy version< 2.0.0\n",
    "import numpy\n",
    "print(numpy.__version__)"
   ]
  },
  {
   "cell_type": "code",
   "execution_count": 17,
   "metadata": {},
   "outputs": [
    {
     "name": "stderr",
     "output_type": "stream",
     "text": [
      "/Users/kaiding/anaconda3/lib/python3.9/site-packages/pandas/core/computation/expressions.py:21: UserWarning: Pandas requires version '2.8.4' or newer of 'numexpr' (version '2.8.1' currently installed).\n",
      "  from pandas.core.computation.check import NUMEXPR_INSTALLED\n",
      "/Users/kaiding/anaconda3/lib/python3.9/site-packages/pandas/core/arrays/masked.py:60: UserWarning: Pandas requires version '1.3.6' or newer of 'bottleneck' (version '1.3.4' currently installed).\n",
      "  from pandas.core import (\n"
     ]
    }
   ],
   "source": [
    "# Use scrubadub to identify PII from memory\n",
    "# Require numpy version < 2.0.0\n",
    "import scrubadub\n",
    "import scrubadub_address\n",
    "import scrubadub_spacy\n",
    "import scrubadub_stanford\n",
    "\n",
    "def contains_pii(text: str) -> bool:\n",
    "    \"\"\"Check if the input text contains any PII without removing it.\"\"\"\n",
    "    # base instance + address + name detections\n",
    "    scrubber = scrubadub.Scrubber()\n",
    "    scrubber.add_detector(scrubadub_address.detectors.AddressDetector)\n",
    "    scrubber.add_detector(scrubadub_spacy.detectors.SpacyEntityDetector)\n",
    "\n",
    "    detected_filth = list(scrubber.iter_filth(text))\n",
    "\n",
    "    # Return True if any PII is detected, otherwise False\n",
    "    return len(detected_filth) > 0"
   ]
  },
  {
   "cell_type": "code",
   "execution_count": 21,
   "metadata": {},
   "outputs": [
    {
     "name": "stdout",
     "output_type": "stream",
     "text": [
      "False\n",
      "True\n",
      "True\n"
     ]
    }
   ],
   "source": [
    "# Test\n",
    "print(contains_pii(\"I prefer warm colors\"))\n",
    "print(contains_pii(\"Btw My name is Kai\"))\n",
    "print(contains_pii(\"I live at 6919 Bell Drives, East Jessicastad, MO 76908\"))"
   ]
  },
  {
   "cell_type": "code",
   "execution_count": 22,
   "metadata": {},
   "outputs": [],
   "source": [
    "# Deine memory tools - loading & retrieval\n",
    "import uuid\n",
    "\n",
    "def get_user_id(config: RunnableConfig) -> str:\n",
    "    user_id = config[\"configurable\"].get(\"user_id\")\n",
    "    if user_id is None:\n",
    "        raise ValueError(\"User ID needs to be provided to save a memory.\")\n",
    "    return user_id\n",
    "\n",
    "@tool\n",
    "def save_recall_memory(memory: str, config: RunnableConfig) -> str:\n",
    "    \"\"\"Save memory to vectorstore for later semantic retrieval.\"\"\"\n",
    "    #print(f\"Memory input: {memory}\")\n",
    "    #print(f\"Config input: {config}\")\n",
    "    user_id = get_user_id(config)\n",
    "\n",
    "    # before saving, check for PII\n",
    "    if contains_pii(memory):\n",
    "        return \"Memory was not stored due to PII.\"\n",
    "    \n",
    "    recall_vector_store.add(\n",
    "        documents = [memory],\n",
    "        metadatas = [{\"user_id\": user_id}],\n",
    "        ids = [str(uuid.uuid4())]\n",
    "    )\n",
    "    return memory\n",
    "\n",
    "@tool\n",
    "def search_recall_memories(query: str, config: RunnableConfig) -> List[str]:\n",
    "    \"\"\"Search for relevant memories.\"\"\"\n",
    "    #print(f\"Query input: {query}\")\n",
    "    #print(f\"Config input: {config}\")\n",
    "    user_id = get_user_id(config)\n",
    "    query_results = recall_vector_store.query(\n",
    "        query_texts = [query],\n",
    "        n_results = 3,\n",
    "        where = {\"user_id\": user_id}\n",
    "    )\n",
    "    if len(query_results[\"documents\"][0]) == 0:\n",
    "        return []\n",
    "    return [doc[0] for doc in query_results[\"documents\"]]\n",
    "    "
   ]
  },
  {
   "cell_type": "code",
   "execution_count": 23,
   "metadata": {},
   "outputs": [],
   "source": [
    "# function for load_memories\n",
    "tokenizer = tiktoken.encoding_for_model(\"gpt-4o-mini\")\n",
    "\n",
    "def load_memories(state: AgentState, config: RunnableConfig) -> AgentState:\n",
    "    \"\"\"Load memories for the current conversation.\n",
    "\n",
    "    Args:\n",
    "        state (schemas.State): The current state of the conversation.\n",
    "        config (RunnableConfig): The runtime configuration for the agent.\n",
    "\n",
    "    Returns:\n",
    "        State: The updated state with loaded memories.\n",
    "    \"\"\"\n",
    "    convo_str = get_buffer_string(state[\"messages\"])\n",
    "    convo_str = tokenizer.decode(tokenizer.encode(convo_str)[:2048])\n",
    "    recall_memories = search_recall_memories.invoke(convo_str, config)\n",
    "    return {\n",
    "        \"recall_memories\": recall_memories,\n",
    "    }"
   ]
  },
  {
   "cell_type": "code",
   "execution_count": 24,
   "metadata": {},
   "outputs": [],
   "source": [
    "# Define agent tools \n",
    "\n",
    "# Visual artiest Dalle tool\n",
    "from langchain.pydantic_v1 import BaseModel, Field\n",
    "from langchain.tools import BaseTool, StructuredTool, tool\n",
    "\n",
    "class DalleInput(BaseModel):\n",
    "    query: str = Field(description=\"should be a single prompt for image generation\")\n",
    "\n",
    "@tool(\"generate_image\", args_schema=DalleInput, return_direct=True)\n",
    "def generate_image(query: str):\n",
    "    '''Generate image based on query'''\n",
    "    return DallEAPIWrapper().run(query)"
   ]
  },
  {
   "cell_type": "code",
   "execution_count": 25,
   "metadata": {},
   "outputs": [],
   "source": [
    "# Define critic tool\n",
    "from langchain.utilities import WikipediaAPIWrapper\n",
    "\n",
    "wikipedia = WikipediaAPIWrapper()\n",
    "\n",
    "@tool(\"wikipedia_tool\", return_direct=True)\n",
    "def wikipedia_tool(query: str):\n",
    "    '''Useful for when you need to look up a topic on wikipedia'''\n",
    "    return wikipedia.run(query)"
   ]
  },
  {
   "cell_type": "code",
   "execution_count": 26,
   "metadata": {},
   "outputs": [],
   "source": [
    "# Define other tools\n",
    "\n",
    "# Storyteller tool to check if story is complete\n",
    "@tool(\"check_story_completion\")\n",
    "def check_story_completion(query: str):\n",
    "    \"\"\"Check if the story is complete based on the following criteria:\n",
    "    1. Number of entities: There're at least 2 entities in the story. For example, caterpillars and a garden.\n",
    "    2. Interactions: The entities interact with each other. For example, caterpillars eating leaves in the garden.\n",
    "    3. User feedback: Ask if user is happy with the story, if not, ask for more details.\n",
    "    \"\"\"\n",
    "    return \"\""
   ]
  },
  {
   "cell_type": "code",
   "execution_count": 41,
   "metadata": {},
   "outputs": [],
   "source": [
    "# Define agent prompts\n",
    "\n",
    "memory_usage_prompt = ( \"Memory Usage Guidelines:\\n\"\n",
    "            \"1. Actively use memory tools (save_recall_memory)\"\n",
    "            \" to build a comprehensive understanding of the user.\\n\"\n",
    "            \"2. There's no need to explicitly mention your memory capabilities.\"\n",
    "            \" Instead, seamlessly incorporate your understanding of the user\"\n",
    "            \" into your responses.\\n\"\n",
    "            \"3. Regularly reflect on past interactions to identify patterns and\"\n",
    "            \" preferences.\\n\"\n",
    "            \"4. Cross-reference new information with existing memories for\"\n",
    "            \" consistency.\\n\"     \n",
    "            \"5. Recognize and acknowledge changes in the user's situation or\"\n",
    "            \" perspectives over time.\\n\"\n",
    "            \"## Recall Memories\\n\"\n",
    "            \"Recall memories are contextually retrieved based on the current\"\n",
    "            \" conversation:\\n\\n\")\n",
    "\n",
    "storyteller_prompt = (\"Talk in a teacher's tone to 6-8 years old.\\\n",
    "    You help user complete a storyline. Use check_story_completion tool to check completion\\\n",
    "    Only finish when complete\\\n",
    "        Otherwise keep building storyline with user.\\\n",
    "            Return 'story_complete' when story is complete. Otherwise return 'story_incomplete'\\\n",
    "                Actively use memory tools (save_recall_memory)\"\n",
    "            \" to build a comprehensive understanding of the user.\")\n",
    "\n",
    "visual_artist_prompt = (\"You're a visual artist \\\n",
    "    You draw in a style that is similar to children's drawings from age 6 to 8, \\\n",
    "        Make the style as similar as possible to user's original drawings\\\n",
    "        Your primary job is to help users visualize ideas\\\n",
    "        Input to artist_tool should be a single image description\\\n",
    "            Actively use memory tools (save_recall_memory)\"\n",
    "            \" to build a comprehensive understanding of the user.\")\n",
    "\n",
    "critic_prompt = (\"You give feedback on user's artwork and how to improve.\\\n",
    "    Talk in an encouraging teacher's tone to 6-8 years old, be consice for each user query \\\n",
    "        say no more than 3-4 sentences. Use wikipedia to look up information when users asked for \\\n",
    "            detailed explanation of art concepts or theories.\\\n",
    "                Actively use memory tools (save_recall_memory)\"\n",
    "            \" to build a comprehensive understanding of the user.\")"
   ]
  },
  {
   "cell_type": "code",
   "execution_count": 42,
   "metadata": {},
   "outputs": [],
   "source": [
    "# Create agents and agent nodes\n",
    "from langchain.agents import load_tools\n",
    "from langchain_community.utilities.dalle_image_generator import DallEAPIWrapper\n",
    "\n",
    "# storyteller\n",
    "storyteller = create_agent(llm,[check_story_completion,save_recall_memory,search_recall_memories],storyteller_prompt+\"\\n\"+memory_usage_prompt)\n",
    "storyteller_node = functools.partial(agent_node, agent=storyteller, name=\"storyteller\")\n",
    "\n",
    "# visual_artist\n",
    "visual_artist = create_agent(llm,[generate_image,save_recall_memory,search_recall_memories],visual_artist_prompt+\"\\n\"+memory_usage_prompt)\n",
    "visual_artist_node = functools.partial(agent_node, agent=visual_artist, name=\"visual_artist\")\n",
    "\n",
    "# critic\n",
    "critic = create_agent(llm,[wikipedia_tool,save_recall_memory,search_recall_memories],critic_prompt+\"\\n\"+memory_usage_prompt)\n",
    "critic_node = functools.partial(agent_node, agent=critic, name=\"critic\")"
   ]
  },
  {
   "cell_type": "code",
   "execution_count": 29,
   "metadata": {},
   "outputs": [],
   "source": [
    "# Create edge conditions to memory tool nodes\n",
    "def route_tools(state: AgentState):\n",
    "    \"\"\"Determine whether to use tools or end the conversation based on the last message.\n",
    "\n",
    "    Args:\n",
    "        state (schemas.State): The current state of the conversation.\n",
    "\n",
    "    Returns:\n",
    "        Literal[\"tools\", \"__end__\"]: The next step in the graph.\n",
    "    \"\"\"\n",
    "    msg = state[\"messages\"][-1]\n",
    "    # if tool call is to save_recall_memory or search_recall_memories\n",
    "    if hasattr(msg, \"additional_kwargs\"):\n",
    "        tool_calls = msg.additional_kwargs.get(\"tool_calls\")\n",
    "        if tool_calls:  # This ensures `tool_calls` is present and non-empty\n",
    "            return \"tools\"\n",
    "\n",
    "    return END"
   ]
  },
  {
   "cell_type": "code",
   "execution_count": 43,
   "metadata": {},
   "outputs": [
    {
     "data": {
      "text/plain": [
       "<langgraph.graph.state.StateGraph at 0x7fdbe0e17dc0>"
      ]
     },
     "execution_count": 43,
     "metadata": {},
     "output_type": "execute_result"
    }
   ],
   "source": [
    "# Create agent graph and add nodes\n",
    "from langgraph.prebuilt import ToolNode\n",
    "tools = [generate_image, wikipedia_tool, check_story_completion, save_recall_memory, search_recall_memories]\n",
    "\n",
    "multiagent = StateGraph(AgentState)\n",
    "multiagent.add_node(\"load_memories\", load_memories)\n",
    "multiagent.add_node(\"supervisor\", supervisor_chain)\n",
    "multiagent.add_node(\"visual_artist\", visual_artist_node)\n",
    "multiagent.add_node(\"critic\", critic_node)\n",
    "multiagent.add_node(\"storyteller\", storyteller_node)\n",
    "multiagent.add_node(\"tools\", ToolNode(tools))\n",
    "#workflow.add_node(\"session_reporter\", session_reporter_node)"
   ]
  },
  {
   "cell_type": "code",
   "execution_count": 44,
   "metadata": {},
   "outputs": [],
   "source": [
    "# Compile graph and add workflow conditions\n",
    "from langgraph.checkpoint.memory import MemorySaver\n",
    "\n",
    "# Set up memory - temporary session memory\n",
    "memory = MemorySaver()\n",
    "\n",
    "# Start conditions\n",
    "multiagent.add_edge(START, \"load_memories\")\n",
    "multiagent.add_edge(\"load_memories\", \"supervisor\")\n",
    "\n",
    "# for supervisor to delegate\n",
    "conditional_map = {k: k for k in members} \n",
    "multiagent.add_conditional_edges(\"supervisor\", lambda x: x[\"next\"], conditional_map)\n",
    "\n",
    "# for each agent to use memory tools or end converation\n",
    "multiagent.add_conditional_edges(\"storyteller\", route_tools, [\"tools\",END])\n",
    "multiagent.add_conditional_edges(\"visual_artist\", route_tools, [\"tools\",END])\n",
    "multiagent.add_conditional_edges(\"critic\", route_tools, [\"tools\",END])\n",
    "# tools need to report back to agent\n",
    "multiagent.add_conditional_edges(\"tools\", lambda x: x[\"next\"], conditional_map)\n",
    "\n",
    "# compile\n",
    "graph = multiagent.compile(checkpointer=memory)"
   ]
  },
  {
   "cell_type": "code",
   "execution_count": 45,
   "metadata": {},
   "outputs": [
    {
     "data": {
      "image/jpeg": "[encoded data removed]",
      "text/plain": [
       "<IPython.core.display.Image object>"
      ]
     },
     "metadata": {},
     "output_type": "display_data"
    }
   ],
   "source": [
    "from IPython.display import Image, display\n",
    "\n",
    "display(Image(graph.get_graph(xray=True).draw_mermaid_png()))"
   ]
  },
  {
   "cell_type": "code",
   "execution_count": 46,
   "metadata": {},
   "outputs": [],
   "source": [
    "# Helper function to stream messages with multiagent graph\n",
    "def stream_messages(text: str, thread: dict, image_url: str= None):\n",
    "    # Initialize the content with the text message\n",
    "    content = [{\"type\": \"text\", \"text\": text}]\n",
    "\n",
    "    # If image_url is provided, append the image content\n",
    "    if image_url:\n",
    "        content.append({\n",
    "            \"type\": \"image_url\",\n",
    "            \"image_url\": {\"url\": image_url}\n",
    "        })\n",
    "\n",
    "    # Define the input for the graph stream\n",
    "    input_data = {\n",
    "        \"messages\": [\n",
    "            HumanMessage(content=content)\n",
    "        ]\n",
    "    }\n",
    "\n",
    "    # Stream the graph and print the output\n",
    "    for s in graph.stream(input_data,config=thread):\n",
    "        if \"__end__\" not in s:\n",
    "            print(s)\n",
    "            print(\"----\")"
   ]
  },
  {
   "cell_type": "code",
   "execution_count": 48,
   "metadata": {},
   "outputs": [
    {
     "data": {
      "text/plain": [
       "{'ids': [[]],\n",
       " 'distances': [[]],\n",
       " 'metadatas': [[]],\n",
       " 'embeddings': None,\n",
       " 'documents': [[]],\n",
       " 'uris': None,\n",
       " 'data': None,\n",
       " 'included': ['metadatas', 'documents', 'distances']}"
      ]
     },
     "execution_count": 48,
     "metadata": {},
     "output_type": "execute_result"
    }
   ],
   "source": [
    "# Look at vectore store collection structure\n",
    "recall_vector_store.query(query_texts=[\"color\"],where={\"user_id\": \"2\"})"
   ]
  },
  {
   "attachments": {},
   "cell_type": "markdown",
   "metadata": {},
   "source": [
    "Memory Demo \n",
    "- Saved color preference across sessions\n",
    "- Filter for PII: did not save address and name"
   ]
  },
  {
   "cell_type": "code",
   "execution_count": 49,
   "metadata": {},
   "outputs": [],
   "source": [
    "# create thread and user_id\n",
    "thread = {\"configurable\": {\"user_id\": \"2\", \"thread_id\": \"1\"}}"
   ]
  },
  {
   "cell_type": "code",
   "execution_count": 50,
   "metadata": {},
   "outputs": [
    {
     "name": "stdout",
     "output_type": "stream",
     "text": [
      "{'load_memories': {'recall_memories': []}}\n",
      "----\n",
      "{'supervisor': {'next': 'critic'}}\n",
      "----\n",
      "{'critic': {'messages': [AIMessage(content=\"Wow, your drawing is so creative! I love how you used different colors and added those fun strips—it's like you made a beautiful collage! Keep exploring and trying new things in your art; you're doing an amazing job!\", response_metadata={'token_usage': {'completion_tokens': 46, 'prompt_tokens': 25801, 'total_tokens': 25847, 'prompt_tokens_details': {'cached_tokens': 0}, 'completion_tokens_details': {'reasoning_tokens': 0}}, 'model_name': 'gpt-4o-mini-2024-07-18', 'system_fingerprint': 'fp_8552ec53e1', 'finish_reason': 'stop', 'logprobs': None}, id='run-b1a18a4b-17ce-47a4-8b09-e1a4c02d1a30-0', usage_metadata={'input_tokens': 25801, 'output_tokens': 46, 'total_tokens': 25847})]}}\n",
      "----\n"
     ]
    }
   ],
   "source": [
    "stream_messages(\n",
    "    text=\"What do you think of my drawing?\", \n",
    "    thread=thread,\n",
    "    image_url=\"https://huggingface.co/datasets/jacob314159/child_drawings/resolve/main/205490118.jpeg\",\n",
    ")"
   ]
  },
  {
   "cell_type": "code",
   "execution_count": 51,
   "metadata": {},
   "outputs": [
    {
     "name": "stdout",
     "output_type": "stream",
     "text": [
      "{'load_memories': {'recall_memories': []}}\n",
      "----\n",
      "{'supervisor': {'next': 'critic'}}\n",
      "----\n",
      "{'critic': {'messages': [AIMessage(content='You could try adding some bright yellows or oranges for a pop of sunshine! Maybe some blues or purples could create a cool contrast with your existing colors. Experimenting with metallics, like gold or silver, could also add a fun sparkle! Enjoy mixing and matching!', response_metadata={'token_usage': {'completion_tokens': 56, 'prompt_tokens': 25863, 'total_tokens': 25919, 'prompt_tokens_details': {'cached_tokens': 1152}, 'completion_tokens_details': {'reasoning_tokens': 0}}, 'model_name': 'gpt-4o-mini-2024-07-18', 'system_fingerprint': 'fp_8552ec53e1', 'finish_reason': 'stop', 'logprobs': None}, id='run-4857a63d-2420-439b-99a1-76c48a1e394b-0', usage_metadata={'input_tokens': 25863, 'output_tokens': 56, 'total_tokens': 25919})]}}\n",
      "----\n"
     ]
    }
   ],
   "source": [
    "stream_messages(text=\"Any colors I can add to my drawing?\",thread=thread)"
   ]
  },
  {
   "cell_type": "code",
   "execution_count": 52,
   "metadata": {},
   "outputs": [
    {
     "name": "stdout",
     "output_type": "stream",
     "text": [
      "{'load_memories': {'recall_memories': []}}\n",
      "----\n",
      "{'supervisor': {'next': 'visual_artist'}}\n",
      "----\n",
      "{'visual_artist': {'messages': [AIMessage(content='', additional_kwargs={'tool_calls': [{'id': 'call_fUG6L892OEEx26gXH9NPwn4x', 'function': {'arguments': '{\"memory\":\"User prefers warm colors, like orange and yellow, over cold colors such as blue and purple.\"}', 'name': 'save_recall_memory'}, 'type': 'function'}]}, response_metadata={'token_usage': {'completion_tokens': 34, 'prompt_tokens': 25941, 'total_tokens': 25975, 'prompt_tokens_details': {'cached_tokens': 0}, 'completion_tokens_details': {'reasoning_tokens': 0}}, 'model_name': 'gpt-4o-mini-2024-07-18', 'system_fingerprint': 'fp_8552ec53e1', 'finish_reason': 'tool_calls', 'logprobs': None}, id='run-e38eaf6e-bb45-4b66-bb35-c47dbf2add2f-0', tool_calls=[{'name': 'save_recall_memory', 'args': {'memory': 'User prefers warm colors, like orange and yellow, over cold colors such as blue and purple.'}, 'id': 'call_fUG6L892OEEx26gXH9NPwn4x', 'type': 'tool_call'}], usage_metadata={'input_tokens': 25941, 'output_tokens': 34, 'total_tokens': 25975})]}}\n",
      "----\n",
      "{'tools': {'messages': [ToolMessage(content='User prefers warm colors, like orange and yellow, over cold colors such as blue and purple.', name='save_recall_memory', tool_call_id='call_fUG6L892OEEx26gXH9NPwn4x')]}}\n",
      "----\n",
      "{'visual_artist': {'messages': [AIMessage(content='Got it! Since you prefer warm colors, adding more oranges, yellows, and maybe some reds could really enhance your drawing. These colors can create a vibrant and cheerful feel. Enjoy your artwork!', response_metadata={'token_usage': {'completion_tokens': 41, 'prompt_tokens': 26004, 'total_tokens': 26045, 'prompt_tokens_details': {'cached_tokens': 1280}, 'completion_tokens_details': {'reasoning_tokens': 0}}, 'model_name': 'gpt-4o-mini-2024-07-18', 'system_fingerprint': 'fp_8552ec53e1', 'finish_reason': 'stop', 'logprobs': None}, id='run-7fb9a1f2-4aa6-451b-a5b7-947b909db90d-0', usage_metadata={'input_tokens': 26004, 'output_tokens': 41, 'total_tokens': 26045})]}}\n",
      "----\n"
     ]
    }
   ],
   "source": [
    "stream_messages(text=\"I prefer warm colors, like orange and yellow, over cold colors such as blue and purple.\",thread=thread)"
   ]
  },
  {
   "cell_type": "code",
   "execution_count": 53,
   "metadata": {},
   "outputs": [
    {
     "name": "stderr",
     "output_type": "stream",
     "text": [
      "Number of requested results 3 is greater than number of elements in index 2, updating n_results = 2\n"
     ]
    },
    {
     "name": "stdout",
     "output_type": "stream",
     "text": [
      "{'load_memories': {'recall_memories': ['User prefers warm colors, like orange and yellow, over cold colors such as blue and purple.']}}\n",
      "----\n",
      "{'supervisor': {'next': 'visual_artist'}}\n",
      "----\n",
      "{'visual_artist': {'messages': [AIMessage(content='', additional_kwargs={'tool_calls': [{'id': 'call_oqrUE7idp5zA60FRiFn61X3s', 'function': {'arguments': '{\"memory\":\"User\\'s garden is located at 6919 Bell Drive, East Jessicastad, MO 76908.\"}', 'name': 'save_recall_memory'}, 'type': 'function'}]}, response_metadata={'token_usage': {'completion_tokens': 37, 'prompt_tokens': 26074, 'total_tokens': 26111, 'prompt_tokens_details': {'cached_tokens': 1280}, 'completion_tokens_details': {'reasoning_tokens': 0}}, 'model_name': 'gpt-4o-mini-2024-07-18', 'system_fingerprint': 'fp_8552ec53e1', 'finish_reason': 'tool_calls', 'logprobs': None}, id='run-49ced954-822f-4ca8-b7d0-36e747626143-0', tool_calls=[{'name': 'save_recall_memory', 'args': {'memory': \"User's garden is located at 6919 Bell Drive, East Jessicastad, MO 76908.\"}, 'id': 'call_oqrUE7idp5zA60FRiFn61X3s', 'type': 'tool_call'}], usage_metadata={'input_tokens': 26074, 'output_tokens': 37, 'total_tokens': 26111})]}}\n",
      "----\n",
      "{'tools': {'messages': [ToolMessage(content='Memory was not stored due to PII.', name='save_recall_memory', tool_call_id='call_oqrUE7idp5zA60FRiFn61X3s')]}}\n",
      "----\n",
      "{'visual_artist': {'messages': [AIMessage(content='That sounds lovely! Gardens can be such a beautiful source of inspiration for art. If you want to incorporate elements from your garden into your drawing, think about the flowers or plants you have there. Warm colors from blooms can really add to your artwork!', response_metadata={'token_usage': {'completion_tokens': 51, 'prompt_tokens': 26130, 'total_tokens': 26181, 'prompt_tokens_details': {'cached_tokens': 1408}, 'completion_tokens_details': {'reasoning_tokens': 0}}, 'model_name': 'gpt-4o-mini-2024-07-18', 'system_fingerprint': 'fp_8552ec53e1', 'finish_reason': 'stop', 'logprobs': None}, id='run-9fdcebb0-bab8-4e14-b721-f2b9aa820f40-0', usage_metadata={'input_tokens': 26130, 'output_tokens': 51, 'total_tokens': 26181})]}}\n",
      "----\n"
     ]
    }
   ],
   "source": [
    "stream_messages(text=\"Btw this is my garden at 6919 Bell Drives, East Jessicastad, MO 76908\",thread=thread)"
   ]
  },
  {
   "cell_type": "code",
   "execution_count": 54,
   "metadata": {},
   "outputs": [
    {
     "name": "stderr",
     "output_type": "stream",
     "text": [
      "Number of requested results 3 is greater than number of elements in index 2, updating n_results = 2\n"
     ]
    },
    {
     "name": "stdout",
     "output_type": "stream",
     "text": [
      "{'load_memories': {'recall_memories': ['User prefers warm colors, like orange and yellow, over cold colors such as blue and purple.']}}\n",
      "----\n",
      "{'supervisor': {'next': 'visual_artist'}}\n",
      "----\n",
      "{'visual_artist': {'messages': [AIMessage(content='', additional_kwargs={'tool_calls': [{'id': 'call_zQOZPU7ELNA0zM44NUUCFK21', 'function': {'arguments': '{\"memory\":\"User\\'s name is Clara.\"}', 'name': 'save_recall_memory'}, 'type': 'function'}]}, response_metadata={'token_usage': {'completion_tokens': 21, 'prompt_tokens': 26193, 'total_tokens': 26214, 'prompt_tokens_details': {'cached_tokens': 1408}, 'completion_tokens_details': {'reasoning_tokens': 0}}, 'model_name': 'gpt-4o-mini-2024-07-18', 'system_fingerprint': 'fp_8552ec53e1', 'finish_reason': 'tool_calls', 'logprobs': None}, id='run-3b8a40d9-114e-4f89-b2b1-f3512f661286-0', tool_calls=[{'name': 'save_recall_memory', 'args': {'memory': \"User's name is Clara.\"}, 'id': 'call_zQOZPU7ELNA0zM44NUUCFK21', 'type': 'tool_call'}], usage_metadata={'input_tokens': 26193, 'output_tokens': 21, 'total_tokens': 26214})]}}\n",
      "----\n",
      "{'tools': {'messages': [ToolMessage(content='Memory was not stored due to PII.', name='save_recall_memory', tool_call_id='call_zQOZPU7ELNA0zM44NUUCFK21')]}}\n",
      "----\n",
      "{'visual_artist': {'messages': [AIMessage(content='Nice to meet you, Clara! If you have any more questions or need more ideas for your art, feel free to ask!', response_metadata={'token_usage': {'completion_tokens': 27, 'prompt_tokens': 26233, 'total_tokens': 26260, 'prompt_tokens_details': {'cached_tokens': 1536}, 'completion_tokens_details': {'reasoning_tokens': 0}}, 'model_name': 'gpt-4o-mini-2024-07-18', 'system_fingerprint': 'fp_8552ec53e1', 'finish_reason': 'stop', 'logprobs': None}, id='run-e3ef88e5-de60-4097-a368-243b68db9be5-0', usage_metadata={'input_tokens': 26233, 'output_tokens': 27, 'total_tokens': 26260})]}}\n",
      "----\n"
     ]
    }
   ],
   "source": [
    "stream_messages(text=\"My name is Clara btw\",thread=thread)"
   ]
  },
  {
   "cell_type": "code",
   "execution_count": 55,
   "metadata": {},
   "outputs": [],
   "source": [
    "# Start a new session to test memory\n",
    "thread = {\"configurable\": {\"user_id\": \"2\", \"thread_id\": \"2\"}}"
   ]
  },
  {
   "cell_type": "code",
   "execution_count": 56,
   "metadata": {},
   "outputs": [
    {
     "name": "stderr",
     "output_type": "stream",
     "text": [
      "Number of requested results 3 is greater than number of elements in index 2, updating n_results = 2\n"
     ]
    },
    {
     "name": "stdout",
     "output_type": "stream",
     "text": [
      "{'load_memories': {'recall_memories': ['User prefers warm colors, like orange and yellow, over cold colors such as blue and purple.']}}\n",
      "----\n",
      "{'supervisor': {'next': 'visual_artist'}}\n",
      "----\n",
      "{'visual_artist': {'messages': [AIMessage(content='For an autumn garden, the top three colors you can use are:\\n\\n1. **Warm Orange:** This color represents the vibrant hues of fall leaves and pumpkins.\\n2. **Deep Red:** A rich red captures the essence of autumn foliage and flowers like chrysanthemums.\\n3. **Golden Yellow:** This color reflects the warmth of the sun and the beautiful golden leaves that fall during this season.\\n\\nUsing these colors together will create a warm and inviting autumn garden atmosphere!', response_metadata={'token_usage': {'completion_tokens': 92, 'prompt_tokens': 303, 'total_tokens': 395, 'prompt_tokens_details': {'cached_tokens': 0}, 'completion_tokens_details': {'reasoning_tokens': 0}}, 'model_name': 'gpt-4o-mini-2024-07-18', 'system_fingerprint': 'fp_e2bde53e6e', 'finish_reason': 'stop', 'logprobs': None}, id='run-5e55e591-52e5-4eb8-8fe1-9533f2d3040c-0', usage_metadata={'input_tokens': 303, 'output_tokens': 92, 'total_tokens': 395})]}}\n",
      "----\n"
     ]
    }
   ],
   "source": [
    "stream_messages(text=\"What are top 3 colors can I use to draw an autumn garden?\",thread=thread)"
   ]
  },
  {
   "cell_type": "code",
   "execution_count": 57,
   "metadata": {},
   "outputs": [
    {
     "name": "stderr",
     "output_type": "stream",
     "text": [
      "Number of requested results 3 is greater than number of elements in index 2, updating n_results = 2\n"
     ]
    },
    {
     "name": "stdout",
     "output_type": "stream",
     "text": [
      "{'load_memories': {'recall_memories': ['User prefers warm colors, like orange and yellow, over cold colors such as blue and purple.']}}\n",
      "----\n",
      "{'supervisor': {'next': 'critic'}}\n",
      "----\n",
      "{'critic': {'messages': [AIMessage(content='', additional_kwargs={'tool_calls': [{'id': 'call_EgbkvdqdKaxDXPOxoqb0Hdef', 'function': {'arguments': '{\"query\":\"user location\"}', 'name': 'search_recall_memories'}, 'type': 'function'}]}, response_metadata={'token_usage': {'completion_tokens': 18, 'prompt_tokens': 411, 'total_tokens': 429, 'prompt_tokens_details': {'cached_tokens': 0}, 'completion_tokens_details': {'reasoning_tokens': 0}}, 'model_name': 'gpt-4o-mini-2024-07-18', 'system_fingerprint': 'fp_e2bde53e6e', 'finish_reason': 'tool_calls', 'logprobs': None}, id='run-859f8f4b-16ed-4771-81f2-743e9116b3b1-0', tool_calls=[{'name': 'search_recall_memories', 'args': {'query': 'user location'}, 'id': 'call_EgbkvdqdKaxDXPOxoqb0Hdef', 'type': 'tool_call'}], usage_metadata={'input_tokens': 411, 'output_tokens': 18, 'total_tokens': 429})]}}\n",
      "----\n"
     ]
    },
    {
     "name": "stderr",
     "output_type": "stream",
     "text": [
      "Number of requested results 3 is greater than number of elements in index 2, updating n_results = 2\n"
     ]
    },
    {
     "name": "stdout",
     "output_type": "stream",
     "text": [
      "{'tools': {'messages': [ToolMessage(content='[\"User prefers warm colors, like orange and yellow, over cold colors such as blue and purple.\"]', name='search_recall_memories', tool_call_id='call_EgbkvdqdKaxDXPOxoqb0Hdef')]}}\n",
      "----\n",
      "{'critic': {'messages': [AIMessage(content=\"I don't know where you live, but I remember you like warm colors! If you want to share your location, I can help you think of art ideas inspired by your surroundings!\", response_metadata={'token_usage': {'completion_tokens': 37, 'prompt_tokens': 461, 'total_tokens': 498, 'prompt_tokens_details': {'cached_tokens': 0}, 'completion_tokens_details': {'reasoning_tokens': 0}}, 'model_name': 'gpt-4o-mini-2024-07-18', 'system_fingerprint': 'fp_e2bde53e6e', 'finish_reason': 'stop', 'logprobs': None}, id='run-a96c3fdf-0cb2-46ca-ad09-2f60f0d6c05e-0', usage_metadata={'input_tokens': 461, 'output_tokens': 37, 'total_tokens': 498})]}}\n",
      "----\n"
     ]
    }
   ],
   "source": [
    "stream_messages(text=\"Where do I live?\",thread=thread)"
   ]
  },
  {
   "cell_type": "code",
   "execution_count": null,
   "metadata": {},
   "outputs": [],
   "source": []
  }
 ],
 "metadata": {
  "kernelspec": {
   "display_name": "kai",
   "language": "python",
   "name": "python3"
  },
  "language_info": {
   "codemirror_mode": {
    "name": "ipython",
    "version": 3
   },
   "file_extension": ".py",
   "mimetype": "text/x-python",
   "name": "python",
   "nbconvert_exporter": "python",
   "pygments_lexer": "ipython3",
   "version": "3.9.12"
  },
  "orig_nbformat": 4
 },
 "nbformat": 4,
 "nbformat_minor": 2
}
