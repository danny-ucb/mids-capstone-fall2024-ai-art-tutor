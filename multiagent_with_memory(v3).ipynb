{
 "cells": [
  {
   "attachments": {},
   "cell_type": "markdown",
   "metadata": {},
   "source": [
    "New features\n",
    "1. Semnatic router - instantaneous, reduce supervisor latency by 3-5 sec\n",
    "2. Image generation - now using Dalle 3\n",
    "3. New prompts for agents\n",
    "4. Removed scrubadub package, used moderator instead for PII filtering"
   ]
  },
  {
   "cell_type": "code",
   "execution_count": 1,
   "metadata": {},
   "outputs": [],
   "source": [
    "# Set up environment - Need OpenAI and Langchain API keys\n",
    "\n",
    "import getpass\n",
    "import os\n",
    "\n",
    "\n",
    "def _set_if_undefined(var: str):\n",
    "    if not os.environ.get(var):\n",
    "        os.environ[var] = getpass.getpass(f\"Please provide your {var}\")\n",
    "\n",
    "\n",
    "_set_if_undefined(\"OPENAI_API_KEY\")\n",
    "_set_if_undefined(\"LANGCHAIN_API_KEY\")\n"
   ]
  },
  {
   "cell_type": "code",
   "execution_count": 2,
   "metadata": {},
   "outputs": [],
   "source": [
    "import json\n",
    "from typing import List, Literal, Optional\n",
    "\n",
    "import tiktoken\n",
    "from langchain_community.tools.tavily_search import TavilySearchResults\n",
    "from langchain_core.documents import Document\n",
    "from langchain_core.embeddings import Embeddings\n",
    "from langchain_core.messages import get_buffer_string\n",
    "from langchain_core.prompts import ChatPromptTemplate\n",
    "from langchain_core.runnables import RunnableConfig\n",
    "from langchain_core.tools import tool\n",
    "from langchain_core.vectorstores import InMemoryVectorStore\n",
    "from langchain_openai import ChatOpenAI\n",
    "from langchain_openai.embeddings import OpenAIEmbeddings\n",
    "from langgraph.checkpoint.memory import MemorySaver\n",
    "from langgraph.graph import END, START, MessagesState, StateGraph\n",
    "from langgraph.prebuilt import ToolNode"
   ]
  },
  {
   "cell_type": "code",
   "execution_count": 3,
   "metadata": {},
   "outputs": [],
   "source": [
    "import chromadb\n",
    "import chromadb.utils.embedding_functions as embedding_functions\n",
    "\n",
    "persist_directory = '/Users/kaiding/Documents/MIDS/Capstone'\n",
    "emb_fn = embedding_functions.OpenAIEmbeddingFunction(api_key=os.environ[\"OPENAI_API_KEY\"])\n",
    "vectordb = chromadb.PersistentClient(path=persist_directory)\n",
    "\n",
    "vectordb.delete_collection(\"recall_vectore_store\")\n",
    "#vectordb.delete_collection(\"vectore_store\")"
   ]
  },
  {
   "cell_type": "code",
   "execution_count": 4,
   "metadata": {},
   "outputs": [],
   "source": [
    "# create vector collection\n",
    "recall_vector_store = vectordb.create_collection(\n",
    "    name=\"recall_vectore_store\", \n",
    "    embedding_function=emb_fn)"
   ]
  },
  {
   "cell_type": "code",
   "execution_count": 5,
   "metadata": {},
   "outputs": [
    {
     "data": {
      "text/plain": [
       "Collection(id=9cb58f36-4fe3-48ab-afdc-2ce14027a7d8, name=recall_vectore_store)"
      ]
     },
     "execution_count": 5,
     "metadata": {},
     "output_type": "execute_result"
    }
   ],
   "source": [
    "recall_vector_store"
   ]
  },
  {
   "cell_type": "code",
   "execution_count": 6,
   "metadata": {},
   "outputs": [],
   "source": [
    "# Helper function to create agent team\n",
    "from langchain_core.output_parsers.openai_functions import JsonOutputFunctionsParser\n",
    "from langchain_core.prompts import ChatPromptTemplate, MessagesPlaceholder\n",
    "from langchain.agents import AgentExecutor, create_openai_tools_agent\n",
    "from langchain_core.messages import BaseMessage, HumanMessage, AIMessage\n",
    "\n",
    "def create_agent(llm: ChatOpenAI, tools: list, system_prompt: str):\n",
    "    # Each worker node will be given a name and some tools.\n",
    "    prompt = ChatPromptTemplate.from_messages(\n",
    "        [\n",
    "            (\n",
    "                \"system\",\n",
    "                system_prompt,\n",
    "            ),\n",
    "            MessagesPlaceholder(variable_name=\"messages\")\n",
    "        ]\n",
    "    )\n",
    "    llm_with_tools = llm.bind_tools(tools)\n",
    "    agent_chain = (\n",
    "        prompt |\n",
    "        llm_with_tools\n",
    "    )\n",
    "    return agent_chain"
   ]
  },
  {
   "cell_type": "code",
   "execution_count": 7,
   "metadata": {},
   "outputs": [],
   "source": [
    "# Create agent graph state, which is set of attributes shared by all agents\n",
    "\n",
    "import functools\n",
    "import operator\n",
    "from typing import Sequence, TypedDict, List\n",
    "from langchain_core.prompts import ChatPromptTemplate, MessagesPlaceholder\n",
    "from langgraph.graph import END, StateGraph, START\n",
    "from typing import Annotated\n",
    "\n",
    "# The agent state is the input to each node in the graph\n",
    "class AgentState(TypedDict):\n",
    "    # The annotation tells the graph that new messages will always\n",
    "    # be added to the current states\n",
    "    messages: Annotated[Sequence[BaseMessage], operator.add]\n",
    "    recall_memories: Annotated[Sequence[str], operator.add]\n",
    "    # The 'next' field indicates where to route to next\n",
    "    next: str\n",
    "    is_appropriate: bool\n",
    "    moderator_response: str"
   ]
  },
  {
   "cell_type": "code",
   "execution_count": 33,
   "metadata": {},
   "outputs": [],
   "source": [
    "# Define agent nodes and human feedback nodes\n",
    "# function to filter for text-only content\n",
    "def filter_messages(msg_history: list):\n",
    "    filtered_list = []\n",
    "    for msg in msg_history:\n",
    "        if msg.type == \"ai\":\n",
    "            filtered_list.append(AIMessage(msg.content))\n",
    "        elif msg.type == \"human\":\n",
    "            filtered_list.append(HumanMessage(msg_history[0].content[0][\"text\"]))\n",
    "    return filtered_list\n",
    "\n",
    "def agent_node(state, agent, name):\n",
    "    #print(f\"Config input: {config}\")\n",
    "    # create tagging for memory\n",
    "    recall_str = (\n",
    "        \"<recall_memory>\\n\" + \"\\n\".join(state[\"recall_memories\"]) + \"\\n</recall_memory>\"\n",
    "    )\n",
    "\n",
    "    result = agent.invoke({\n",
    "        \"messages\": state[\"messages\"],\n",
    "        \"recall_memories\": recall_str,\n",
    "    })\n",
    "    # if last message has url or image input, remove it after invoke\n",
    "    last_msg = state[\"messages\"][-1]\n",
    "    # remove image url after usage\n",
    "    if len(last_msg.content) > 1: \n",
    "        #print(f\"Before removal: {state['messages'][-1].content}\")\n",
    "        state[\"messages\"][-1] = HumanMessage(last_msg.content[0][\"text\"])\n",
    "        print(\"Image removed after usage\")\n",
    "        #print(f\"After removal: {state['messages'][-1].content}\")\n",
    "    \n",
    "    return {\"messages\": [result]}"
   ]
  },
  {
   "cell_type": "code",
   "execution_count": 10,
   "metadata": {},
   "outputs": [],
   "source": [
    "# replace supervisor with semantic router\n",
    "from semantic_router import Route\n",
    "\n",
    "storyteller_route = Route(\n",
    "    name=\"storyteller_route\",\n",
    "    utterances = [\n",
    "        \"Help me complete the storyline\",\n",
    "        \"Give me inspiration on what to draw\",\n",
    "        \"I need help with my story and plot\",\n",
    "        \"What else might be in the story?\"\n",
    "    ]\n",
    ")\n",
    "\n",
    "critic_route = Route(\n",
    "    name=\"critic_route\",\n",
    "    utterances = [\n",
    "        \"Can you provide feedback on my recent artwork to help me improve?\",\n",
    "        \"Could you critique the color I used and suggest improvements?\",\n",
    "        \"What are relevant art history and theory?\",\n",
    "        \"What are some art techniques I can use?\",\n",
    "    ]     \n",
    ")\n",
    "\n",
    "visual_artist_route = Route(\n",
    "    name=\"visual_artist_route\",\n",
    "    utterances = [\n",
    "        \"Help me visualize the ideas\",\n",
    "        \"Can you show me what it looks like?\",\n",
    "        \"Can you draw a picture of it?\",\n",
    "        \"Draw me a picture of the story\"\n",
    "    ]\n",
    ")\n",
    "\n",
    "routes = [storyteller_route, critic_route, visual_artist_route]\n"
   ]
  },
  {
   "cell_type": "code",
   "execution_count": 10,
   "metadata": {},
   "outputs": [],
   "source": [
    "#!pip install -qU semantic-router"
   ]
  },
  {
   "cell_type": "code",
   "execution_count": 11,
   "metadata": {},
   "outputs": [],
   "source": [
    "from semantic_router import RouteLayer\n",
    "from semantic_router.encoders import OpenAIEncoder\n",
    "\n",
    "rl = RouteLayer(encoder=OpenAIEncoder(), routes=routes)"
   ]
  },
  {
   "cell_type": "code",
   "execution_count": 12,
   "metadata": {},
   "outputs": [
    {
     "data": {
      "text/plain": [
       "RouteChoice(name='critic_route', function_call=None, similarity_score=None)"
      ]
     },
     "execution_count": 12,
     "metadata": {},
     "output_type": "execute_result"
    }
   ],
   "source": [
    "# testing\n",
    "rl(\"Who are the famous artists who like to use purple\")"
   ]
  },
  {
   "cell_type": "code",
   "execution_count": 13,
   "metadata": {},
   "outputs": [
    {
     "data": {
      "text/plain": [
       "RouteChoice(name=None, function_call=None, similarity_score=None)"
      ]
     },
     "execution_count": 13,
     "metadata": {},
     "output_type": "execute_result"
    }
   ],
   "source": [
    "rl(\"yo yo yo\")"
   ]
  },
  {
   "cell_type": "code",
   "execution_count": 14,
   "metadata": {},
   "outputs": [],
   "source": [
    "def router_node(state, name):\n",
    "    last_message = state[\"messages\"][-1]\n",
    "    result = semantic_layer(last_message)\n",
    "    return {\"next\": result}\n",
    "\n",
    "def semantic_layer(query: str):\n",
    "    #print(f\"Query: {query.content[0]['text']}\")\n",
    "    route = rl(query.content[0][\"text\"])\n",
    "    if route.name == \"storyteller_route\":\n",
    "        return \"storyteller\"\n",
    "    elif route.name == \"critic_route\":\n",
    "        return \"critic\"\n",
    "    elif route.name == \"visual_artist_route\":\n",
    "        return \"visual_artist\"\n",
    "    else:\n",
    "        return \"silly\""
   ]
  },
  {
   "cell_type": "code",
   "execution_count": 15,
   "metadata": {},
   "outputs": [],
   "source": [
    "# Deine memory tools - loading & retrieval\n",
    "import uuid\n",
    "\n",
    "def get_user_id(config: RunnableConfig) -> str:\n",
    "    user_id = config[\"configurable\"].get(\"user_id\")\n",
    "    if user_id is None:\n",
    "        raise ValueError(\"User ID needs to be provided to save a memory.\")\n",
    "    return user_id\n",
    "\n",
    "@tool\n",
    "def save_recall_memory(memory: str, config: RunnableConfig) -> str:\n",
    "    \"\"\"Save memory to vectorstore for later semantic retrieval.\"\"\"\n",
    "    user_id = get_user_id(config)\n",
    "    \n",
    "    recall_vector_store.add(\n",
    "        documents = [memory],\n",
    "        metadatas = [{\"user_id\": user_id}],\n",
    "        ids = [str(uuid.uuid4())]\n",
    "    )\n",
    "    return memory\n",
    "\n",
    "@tool\n",
    "def search_recall_memories(query: str, config: RunnableConfig) -> List[str]:\n",
    "    \"\"\"Search for relevant memories.\"\"\"\n",
    "    #print(f\"Query input: {query}\")\n",
    "    #print(f\"Config input: {config}\")\n",
    "    user_id = get_user_id(config)\n",
    "    query_results = recall_vector_store.query(\n",
    "        query_texts = [query],\n",
    "        n_results = 3,\n",
    "        where = {\"user_id\": user_id}\n",
    "    )\n",
    "    if len(query_results[\"documents\"][0]) == 0:\n",
    "        return []\n",
    "    return [doc[0] for doc in query_results[\"documents\"]]"
   ]
  },
  {
   "cell_type": "code",
   "execution_count": 16,
   "metadata": {},
   "outputs": [],
   "source": [
    "# function for load_memories\n",
    "tokenizer = tiktoken.encoding_for_model(\"gpt-4o-mini\")\n",
    "\n",
    "def load_memories(state: AgentState, config: RunnableConfig) -> AgentState:\n",
    "    \"\"\"Load memories for the current conversation.\n",
    "\n",
    "    Args:\n",
    "        state (schemas.State): The current state of the conversation.\n",
    "        config (RunnableConfig): The runtime configuration for the agent.\n",
    "\n",
    "    Returns:\n",
    "        State: The updated state with loaded memories.\n",
    "    \"\"\"\n",
    "    convo_str = get_buffer_string(state[\"messages\"])\n",
    "    convo_str = tokenizer.decode(tokenizer.encode(convo_str)[:2048])\n",
    "    recall_memories = search_recall_memories.invoke(convo_str, config)\n",
    "    return {\n",
    "        \"recall_memories\": recall_memories,\n",
    "    }"
   ]
  },
  {
   "cell_type": "code",
   "execution_count": 17,
   "metadata": {},
   "outputs": [],
   "source": [
    "# Define agent tools \n",
    "\n",
    "# Visual artiest Dalle tool\n",
    "from langchain.pydantic_v1 import BaseModel, Field\n",
    "from langchain.tools import BaseTool, StructuredTool, tool\n",
    "\n",
    "class DalleInput(BaseModel):\n",
    "    query: str = Field(description=\"should be a single prompt for image generation\")\n",
    "\n",
    "from openai import OpenAI\n",
    "client = OpenAI()\n",
    "\n",
    "@tool(\"generate_image\", args_schema=DalleInput, return_direct=True)\n",
    "def generate_image(query: str):\n",
    "    '''Generate image from query, in a style relatable to children 8-10 years old'''\n",
    "    response = client.images.generate(\n",
    "        model = \"dall-e-3\",\n",
    "        prompt = query,\n",
    "        size = \"1024x1024\",\n",
    "        n = 1\n",
    "    )\n",
    "    return response.data[0].url"
   ]
  },
  {
   "cell_type": "code",
   "execution_count": 76,
   "metadata": {},
   "outputs": [
    {
     "data": {
      "text/plain": [
       "'https://oaidalleapiprodscus.blob.core.windows.net/private/org-aPKzcHASUzXhTThsB97suvfx/user-Q1cb6ETkLPf4IntTMRgQJk1r/img-uRR7KUcEn9ubyelJNzcNQOyu.png?st=2024-11-04T15%3A13%3A34Z&se=2024-11-04T17%3A13%3A34Z&sp=r&sv=2024-08-04&sr=b&rscd=inline&rsct=image/png&skoid=d505667d-d6c1-4a0a-bac7-5c84a87759f8&sktid=a48cca56-e6da-484e-a814-9c849652bcb3&skt=2024-11-03T17%3A23%3A23Z&ske=2024-11-04T17%3A23%3A23Z&sks=b&skv=2024-08-04&sig=/px0qbWZygkVratzkUor060ust79IwuGg7IRC0gL%2B/E%3D'"
      ]
     },
     "execution_count": 76,
     "metadata": {},
     "output_type": "execute_result"
    }
   ],
   "source": [
    "generate_image(\"a winter christmas garden in children's illustration style most relatable for 8-10 years old\")"
   ]
  },
  {
   "cell_type": "code",
   "execution_count": 34,
   "metadata": {},
   "outputs": [],
   "source": [
    "# Define critic tool\n",
    "from langchain.utilities import WikipediaAPIWrapper\n",
    "\n",
    "wikipedia = WikipediaAPIWrapper()\n",
    "\n",
    "@tool(\"wikipedia_tool\", return_direct=True)\n",
    "def wikipedia_tool(query: str):\n",
    "    '''Useful for when you need to look up a topic on wikipedia'''\n",
    "    return wikipedia.run(query)"
   ]
  },
  {
   "cell_type": "code",
   "execution_count": 19,
   "metadata": {},
   "outputs": [],
   "source": [
    "# other tools\n",
    "@tool(\"moderator_tool\")\n",
    "def moderator_tool(query:str):\n",
    "    \"\"\"\n",
    "    Used for moderation throughout the app\n",
    "    \"\"\"\n",
    "    return \"\""
   ]
  },
  {
   "cell_type": "code",
   "execution_count": 20,
   "metadata": {},
   "outputs": [],
   "source": [
    "# Define agent prompts\n",
    "\n",
    "memory_usage_prompt = ( \"Memory Usage Guidelines:\\n\"\n",
    "            \"1. Actively use memory tools (save_recall_memory)\"\n",
    "            \" to build a comprehensive understanding of the user.\\n\"\n",
    "            \"2. Never explicitly mention your memory capabilities.\"\n",
    "            \" Instead, seamlessly incorporate your understanding of the user\"\n",
    "            \" into your responses.\\n\"\n",
    "            \"3. Regularly reflect on past interactions to identify patterns and\"\n",
    "            \" preferences.\\n\"\n",
    "            \"4. Cross-reference new information with existing memories for\"\n",
    "            \" consistency.\\n\"     \n",
    "            \"5. Recognize and acknowledge changes in the user's situation or\"\n",
    "            \" perspectives over time.\\n\"\n",
    "            \"## Recall Memories\\n\"\n",
    "            \"Recall memories are contextually retrieved based on the current\"\n",
    "            \" conversation:\\n\\n\")\n",
    "\n",
    "storyteller_prompt = (\"Talk in a teacher's encouraging and engaging tone to 8-10 years old. \\\n",
    "    Use languages that are easy to understand for the age group.\\\n",
    "    You help users build a richer storyline and give them inspirations. \\\n",
    "        Actively use wikipedia_tool to show relevant art history or theory related to user queries)\\\n",
    "            Actively use memory tool (save_recall_memory)\\\n",
    "            to build a comprehensive understanding of the user\")\n",
    "\n",
    "visual_artist_prompt = (\"You're a visual artist. \\\n",
    "    Always use (generate_image) tool to visualize ideas in children's illustration style most relatable to 8-10 years old, but invoke (generate_image) only once\\\n",
    "        After calling the tool, briefly explain the generated image to user \\\n",
    "            Actively use memory tools (save_recall_memory)\\\n",
    "            to build a comprehensive understanding of the user.\")\n",
    "\n",
    "critic_prompt = (\"You give feedback on user's artwork and how to improve.\\\n",
    "    Talk in simple and engaging style to 8-10 years old, use languages that are easy to understand for the age group\\\n",
    "    Actively use wikipedia_tool to show relevant art history or theory related to user query\\\n",
    "                Actively use memory tools (save_recall_memory)\\\n",
    "            to build a comprehensive understanding of the user.\")"
   ]
  },
  {
   "cell_type": "code",
   "execution_count": 35,
   "metadata": {},
   "outputs": [],
   "source": [
    "# Create agents and agent nodes\n",
    "from langchain.agents import load_tools\n",
    "from langchain_community.utilities.dalle_image_generator import DallEAPIWrapper\n",
    "\n",
    "llm = ChatOpenAI(model=\"gpt-4o-mini\")\n",
    "# router\n",
    "semantic_router = functools.partial(router_node, name=\"semantic_router\")\n",
    "\n",
    "# storyteller\n",
    "storyteller = create_agent(llm,[wikipedia_tool,save_recall_memory,search_recall_memories],storyteller_prompt+\"\\n\"+memory_usage_prompt)\n",
    "storyteller_node = functools.partial(agent_node, agent=storyteller, name=\"storyteller\")\n",
    "\n",
    "# visual_artist\n",
    "visual_artist = create_agent(llm,[generate_image,save_recall_memory,search_recall_memories],visual_artist_prompt+\"\\n\"+memory_usage_prompt)\n",
    "visual_artist_node = functools.partial(agent_node, agent=visual_artist, name=\"visual_artist\")\n",
    "\n",
    "# critic\n",
    "critic = create_agent(llm,[wikipedia_tool,save_recall_memory,search_recall_memories],critic_prompt+\"\\n\"+memory_usage_prompt)\n",
    "critic_node = functools.partial(agent_node, agent=critic, name=\"critic\")\n",
    "\n",
    "# silly agent\n",
    "silly = create_agent(llm, [moderator_tool], \"You gently redirect the user back to the focus of learning art. \\\n",
    "    If the child is getting off track, for example, saying silly phrases, repeating words, typing the alphabet, or \\\n",
    "    talking about something unrelated to art, remind them that you are an art teacher. Talk in one or two sentences.\")\n",
    "\n",
    "silly_node = functools.partial(agent_node, agent = silly, name = \"silly\")"
   ]
  },
  {
   "cell_type": "code",
   "execution_count": 22,
   "metadata": {},
   "outputs": [],
   "source": [
    "# image & conversation moderator\n",
    "\n",
    "moderator_json_schema = {\n",
    "    \"name\": \"content_moderator\",\n",
    "    \"description\": \"Determines if the content is appropriate and provides a response for the user.\",\n",
    "    \"parameters\": {\n",
    "        \"title\": \"contentModeratorSchema\",\n",
    "        \"type\": \"object\",\n",
    "        \"properties\": {\n",
    "            \"is_appropriate\": {\n",
    "                \"title\": \"Is Appropriate\",\n",
    "                \"type\": \"boolean\",\n",
    "                \"description\": \"True if both image and text are appropriate; false otherwise.\"\n",
    "            },\n",
    "            \"moderator_response\": {\n",
    "                \"title\": \"Response\",\n",
    "                \"type\": \"string\",\n",
    "                \"description\": \"Guide users if content is inappropriate. Leave empty if content is appropriate.\"\n",
    "            }\n",
    "        },\n",
    "        \"required\": [\"is_appropriate\", \"moderator_response\"]\n",
    "    }\n",
    "}\n",
    "\n",
    "moderator_system_prompt = (\n",
    "    \"You are tasked with determining if the content, both images and conversation, is appropriate for children aged 8-10 years old.\"\n",
    "    \"User request to ask for an image or picture of what something looks like is totally appropriate.\"\n",
    "    \"Filter for the following criteria instead:\\n\\n \"\n",
    "    \"First, if there's an image provided, check the image: appropriate content includes children's drawings that do not depict violence, explicit themes, \"\n",
    "    \"or anything unsuitable for this age group. If the uploaded image is a photograph of something other than a child's drawing, it is not appropriate. \"\n",
    "    \"Invoke moderator_tool only once.\\n\\n\"\n",
    "    \n",
    "    \"Next, check the conversation: you are moderating and adjusting AI-generated content to ensure it is suitable for children. \"\n",
    "    \"If the AI response is not suitable for children, rephrase it; otherwise, keep it the same. The response should avoid complex language \"\n",
    "    \"and sensitive topics (e.g., violence, inappropriate language) and be presented in a friendly, encouraging tone. If the content is inappropriate \"\n",
    "    \"or too complex, adjust it to be simpler and suitable for children, maintaining the original idea and length. \"\n",
    "    \"Only invoke once per AI response.\"\n",
    ")\n",
    "\n",
    "moderator_prompt = ChatPromptTemplate.from_messages(\n",
    "    [\n",
    "        (\"system\", moderator_system_prompt),\n",
    "        MessagesPlaceholder(variable_name=\"messages\"),\n",
    "        (\"system\", \"Is the content appropriate and why?\"),\n",
    "    ]\n",
    ")\n",
    "\n",
    "moderator = moderator_prompt | llm.with_structured_output(moderator_json_schema)"
   ]
  },
  {
   "cell_type": "code",
   "execution_count": 23,
   "metadata": {},
   "outputs": [
    {
     "data": {
      "text/plain": [
       "{'is_appropriate': False,\n",
       " 'moderator_response': \"It looks like you've uploaded a photograph instead of a drawing. If you have a drawing you'd like to share, please try again!\"}"
      ]
     },
     "execution_count": 23,
     "metadata": {},
     "output_type": "execute_result"
    }
   ],
   "source": [
    "# test moderator\n",
    "input_messages = [\n",
    "    {\"role\": \"user\", \"content\": [\n",
    "        {\"type\": \"text\", \"text\": \"Here's my drawing. I want to improve it. Can you help me?\"},\n",
    "        {\n",
    "          \"type\": \"image_url\",\n",
    "          \"image_url\": {\n",
    "            \"url\": \"https://huggingface.co/datasets/jacob314159/child_drawings/resolve/main/123.jpeg\",\n",
    "            },\n",
    "        },\n",
    "    ]}\n",
    "]\n",
    "\n",
    "moderator.invoke({\"messages\": input_messages})"
   ]
  },
  {
   "cell_type": "code",
   "execution_count": 24,
   "metadata": {},
   "outputs": [
    {
     "data": {
      "text/plain": [
       "{'is_appropriate': True, 'moderator_response': ''}"
      ]
     },
     "execution_count": 24,
     "metadata": {},
     "output_type": "execute_result"
    }
   ],
   "source": [
    "input_messages2 = [\n",
    "    {\"role\": \"user\", \"content\": [\n",
    "        {\"type\": \"text\", \"text\": \"Can you show me a picture of what a winter garden looks like?\"},\n",
    "    ]}\n",
    "]\n",
    "\n",
    "moderator.invoke({\"messages\": input_messages2})\n"
   ]
  },
  {
   "cell_type": "code",
   "execution_count": 25,
   "metadata": {},
   "outputs": [],
   "source": [
    "# Create conditional edges for tool calling\n",
    "def route_tools(state: AgentState):\n",
    "    \"\"\"Determine whether to use tools or end the conversation based on the last message.\n",
    "\n",
    "    Args:\n",
    "        state (schemas.State): The current state of the conversation.\n",
    "\n",
    "    Returns:\n",
    "        Literal[\"tools\", \"__end__\"]: The next step in the graph.\n",
    "    \"\"\"\n",
    "    msg = state[\"messages\"][-1]\n",
    "    # if tool call is to save_recall_memory or search_recall_memories\n",
    "    if hasattr(msg, \"additional_kwargs\"):\n",
    "        tool_calls = msg.additional_kwargs.get(\"tool_calls\")\n",
    "        if tool_calls:  # This ensures `tool_calls` is present and non-empty\n",
    "            return \"tools\"\n",
    "\n",
    "    return END"
   ]
  },
  {
   "cell_type": "code",
   "execution_count": 36,
   "metadata": {},
   "outputs": [
    {
     "data": {
      "text/plain": [
       "<langgraph.graph.state.StateGraph at 0x7fbc84240940>"
      ]
     },
     "execution_count": 36,
     "metadata": {},
     "output_type": "execute_result"
    }
   ],
   "source": [
    "# Create agent graph and add nodes\n",
    "from langgraph.prebuilt import ToolNode\n",
    "tools = [generate_image, wikipedia_tool, save_recall_memory, search_recall_memories]\n",
    "\n",
    "multiagent = StateGraph(AgentState)\n",
    "multiagent.add_node(\"load_memories\", load_memories)\n",
    "#multiagent.add_node(\"supervisor\", supervisor_chain)\n",
    "multiagent.add_node(\"semantic_router\", semantic_router)\n",
    "multiagent.add_node(\"visual_artist\", visual_artist_node)\n",
    "multiagent.add_node(\"critic\", critic_node)\n",
    "multiagent.add_node(\"storyteller\", storyteller_node)\n",
    "multiagent.add_node(\"tools\", ToolNode(tools))\n",
    "\n",
    "# add other nodes\n",
    "multiagent.add_node(\"silly\", silly_node)\n",
    "multiagent.add_node(\"moderator\", moderator)"
   ]
  },
  {
   "cell_type": "code",
   "execution_count": 37,
   "metadata": {},
   "outputs": [],
   "source": [
    "# Compile graph and add workflow conditions\n",
    "from langgraph.checkpoint.memory import MemorySaver\n",
    "\n",
    "members = [\"storyteller\", \"visual_artist\", \"critic\"]\n",
    "options = members + [\"silly\"]\n",
    "# Set up memory - temporary session memory\n",
    "memory = MemorySaver()\n",
    "# Start conditions\n",
    "multiagent.add_edge(START, \"moderator\")\n",
    "# if inappropriate, end conversation and guide users \n",
    "multiagent.add_conditional_edges(\"moderator\", lambda x: x[\"is_appropriate\"], {True:\"load_memories\", False:END})\n",
    "multiagent.add_edge(\"load_memories\", \"semantic_router\")\n",
    "\n",
    "# for supervisor to delegate\n",
    "conditional_map = {k: k for k in options} \n",
    "multiagent.add_conditional_edges(\"semantic_router\", lambda x: x[\"next\"], conditional_map)\n",
    "\n",
    "# for each agent to use memory tools or end converation\n",
    "multiagent.add_conditional_edges(\"storyteller\", route_tools, [\"tools\",END])\n",
    "multiagent.add_conditional_edges(\"visual_artist\", route_tools, [\"tools\",END])\n",
    "multiagent.add_conditional_edges(\"critic\", route_tools, [\"tools\",END])\n",
    "multiagent.add_edge(\"silly\", END)\n",
    "\n",
    "# tools need to report back to agent\n",
    "multiagent.add_conditional_edges(\"tools\", lambda x: x[\"next\"], \n",
    "    {\n",
    "        \"critic\":\"critic\",\n",
    "        \"visual_artist\":\"visual_artist\",\n",
    "        \"storyteller\":\"storyteller\"\n",
    "    }\n",
    ")\n",
    "\n",
    "# compile\n",
    "graph = multiagent.compile(checkpointer=memory)"
   ]
  },
  {
   "cell_type": "code",
   "execution_count": 38,
   "metadata": {},
   "outputs": [
    {
     "data": {
      "image/jpeg": "[encoded data removed]",
      "text/plain": [
       "<IPython.core.display.Image object>"
      ]
     },
     "metadata": {},
     "output_type": "display_data"
    }
   ],
   "source": [
    "from IPython.display import Image, display\n",
    "\n",
    "display(Image(graph.get_graph(xray=True).draw_mermaid_png()))"
   ]
  },
  {
   "cell_type": "code",
   "execution_count": 29,
   "metadata": {},
   "outputs": [],
   "source": [
    "# Helper function to stream messages with multiagent graph\n",
    "def stream_messages(text: str, thread: dict, image_url: str= None):\n",
    "    # Initialize the content with the text message\n",
    "    content = [{\"type\": \"text\", \"text\": text}]\n",
    "\n",
    "    # If image_url is provided, append the image content\n",
    "    if image_url:\n",
    "        content.append({\n",
    "            \"type\": \"image_url\",\n",
    "            \"image_url\": {\"url\": image_url}\n",
    "        })\n",
    "\n",
    "    # Define the input for the graph stream\n",
    "    input_data = {\n",
    "        \"messages\": [\n",
    "            HumanMessage(content=content)\n",
    "        ],\n",
    "    }\n",
    "\n",
    "    # Stream the graph and print the output\n",
    "    for s in graph.stream(input_data,config=thread):\n",
    "        # stream moderator node differently\n",
    "        # only output reponse if inappropriate\n",
    "        print(f\"input: {input_data}\")\n",
    "        print(s)\n",
    "        print(\"----\")"
   ]
  },
  {
   "cell_type": "code",
   "execution_count": 39,
   "metadata": {},
   "outputs": [],
   "source": [
    "thread = {\"configurable\": {\"user_id\": \"1\", \"thread_id\": \"2\"}}"
   ]
  },
  {
   "cell_type": "code",
   "execution_count": 40,
   "metadata": {},
   "outputs": [
    {
     "name": "stdout",
     "output_type": "stream",
     "text": [
      "input: {'messages': [HumanMessage(content=[{'type': 'text', 'text': 'What do you think of my drawing?'}, {'type': 'image_url', 'image_url': {'url': 'https://huggingface.co/datasets/jacob314159/child_drawings/resolve/main/205490118.jpeg'}}])]}\n",
      "{'moderator': {'is_appropriate': True, 'moderator_response': ''}}\n",
      "----\n",
      "input: {'messages': [HumanMessage(content=[{'type': 'text', 'text': 'What do you think of my drawing?'}, {'type': 'image_url', 'image_url': {'url': 'https://huggingface.co/datasets/jacob314159/child_drawings/resolve/main/205490118.jpeg'}}])]}\n",
      "{'load_memories': {'recall_memories': []}}\n",
      "----\n",
      "input: {'messages': [HumanMessage(content=[{'type': 'text', 'text': 'What do you think of my drawing?'}, {'type': 'image_url', 'image_url': {'url': 'https://huggingface.co/datasets/jacob314159/child_drawings/resolve/main/205490118.jpeg'}}])]}\n",
      "{'semantic_router': {'next': 'critic'}}\n",
      "----\n",
      "Image removed after usage\n",
      "input: {'messages': [HumanMessage(content=[{'type': 'text', 'text': 'What do you think of my drawing?'}, {'type': 'image_url', 'image_url': {'url': 'https://huggingface.co/datasets/jacob314159/child_drawings/resolve/main/205490118.jpeg'}}])]}\n",
      "{'critic': {'messages': [AIMessage(content='Your drawing is really creative! I love how you used different colors and added some fun textures with the strips. The mix of paint and paper makes it look very lively! \\n\\nIf you want to make it even more interesting, you could try adding more shapes or patterns with your paint. Maybe even some glitter for extra sparkle! Keep up the awesome work!', response_metadata={'token_usage': {'completion_tokens': 72, 'prompt_tokens': 25789, 'total_tokens': 25861, 'prompt_tokens_details': {'cached_tokens': 1024, 'audio_tokens': 0}, 'completion_tokens_details': {'reasoning_tokens': 0, 'audio_tokens': 0, 'accepted_prediction_tokens': 0, 'rejected_prediction_tokens': 0}}, 'model_name': 'gpt-4o-mini-2024-07-18', 'system_fingerprint': 'fp_9b78b61c52', 'finish_reason': 'stop', 'logprobs': None}, id='run-8525ed95-99a5-46db-b9a0-762e4efaa97c-0', usage_metadata={'input_tokens': 25789, 'output_tokens': 72, 'total_tokens': 25861})]}}\n",
      "----\n"
     ]
    }
   ],
   "source": [
    "stream_messages(\n",
    "    text=\"What do you think of my drawing?\", \n",
    "    thread=thread,\n",
    "    image_url=\"https://huggingface.co/datasets/jacob314159/child_drawings/resolve/main/205490118.jpeg\",\n",
    ")"
   ]
  },
  {
   "cell_type": "code",
   "execution_count": 41,
   "metadata": {},
   "outputs": [
    {
     "data": {
      "text/plain": [
       "[HumanMessage(content='What do you think of my drawing?'),\n",
       " AIMessage(content='Your drawing is really creative! I love how you used different colors and added some fun textures with the strips. The mix of paint and paper makes it look very lively! \\n\\nIf you want to make it even more interesting, you could try adding more shapes or patterns with your paint. Maybe even some glitter for extra sparkle! Keep up the awesome work!', response_metadata={'token_usage': {'completion_tokens': 72, 'prompt_tokens': 25789, 'total_tokens': 25861, 'prompt_tokens_details': {'cached_tokens': 1024, 'audio_tokens': 0}, 'completion_tokens_details': {'reasoning_tokens': 0, 'audio_tokens': 0, 'accepted_prediction_tokens': 0, 'rejected_prediction_tokens': 0}}, 'model_name': 'gpt-4o-mini-2024-07-18', 'system_fingerprint': 'fp_9b78b61c52', 'finish_reason': 'stop', 'logprobs': None}, id='run-8525ed95-99a5-46db-b9a0-762e4efaa97c-0', usage_metadata={'input_tokens': 25789, 'output_tokens': 72, 'total_tokens': 25861})]"
      ]
     },
     "execution_count": 41,
     "metadata": {},
     "output_type": "execute_result"
    }
   ],
   "source": [
    "# check message history\n",
    "graph.get_state(thread).values[\"messages\"]"
   ]
  },
  {
   "cell_type": "code",
   "execution_count": 42,
   "metadata": {},
   "outputs": [
    {
     "name": "stdout",
     "output_type": "stream",
     "text": [
      "input: {'messages': [HumanMessage(content=[{'type': 'text', 'text': 'Give me some color recommendations to add'}])]}\n",
      "{'moderator': {'is_appropriate': True, 'moderator_response': ''}}\n",
      "----\n",
      "input: {'messages': [HumanMessage(content=[{'type': 'text', 'text': 'Give me some color recommendations to add'}])]}\n",
      "{'load_memories': {'recall_memories': []}}\n",
      "----\n",
      "input: {'messages': [HumanMessage(content=[{'type': 'text', 'text': 'Give me some color recommendations to add'}])]}\n",
      "{'semantic_router': {'next': 'critic'}}\n",
      "----\n",
      "input: {'messages': [HumanMessage(content=[{'type': 'text', 'text': 'Give me some color recommendations to add'}])]}\n",
      "{'critic': {'messages': [AIMessage(content='Sure! Here are some fun color ideas you can try adding to your drawing:\\n\\n1. **Bright Yellow**: This color can make your artwork feel sunny and happy! It goes well with almost everything.\\n\\n2. **Sky Blue**: This is a nice, calming color that can represent the sky or water. It can help balance out warmer colors like red or orange.\\n\\n3. **Vibrant Pink**: This can add a playful touch to your drawing. It’s great for flowers or anything that needs a pop of color!\\n\\n4. **Lime Green**: This is a fun, bright green that can represent nature and make your drawing feel fresh and lively.\\n\\n5. **Purple**: This color can add a touch of magic and mystery. It looks fantastic next to yellow or orange!\\n\\nYou can mix and match these colors to see which ones you like best! Have fun experimenting!', response_metadata={'token_usage': {'completion_tokens': 182, 'prompt_tokens': 374, 'total_tokens': 556, 'prompt_tokens_details': {'cached_tokens': 0, 'audio_tokens': 0}, 'completion_tokens_details': {'reasoning_tokens': 0, 'audio_tokens': 0, 'accepted_prediction_tokens': 0, 'rejected_prediction_tokens': 0}}, 'model_name': 'gpt-4o-mini-2024-07-18', 'system_fingerprint': 'fp_0ba0d124f1', 'finish_reason': 'stop', 'logprobs': None}, id='run-bc3deae2-5a16-40f8-9348-7226aa7fc6fe-0', usage_metadata={'input_tokens': 374, 'output_tokens': 182, 'total_tokens': 556})]}}\n",
      "----\n"
     ]
    }
   ],
   "source": [
    "stream_messages(\n",
    "    text=\"Give me some color recommendations to add\", \n",
    "    thread=thread\n",
    ")"
   ]
  },
  {
   "cell_type": "code",
   "execution_count": null,
   "metadata": {},
   "outputs": [],
   "source": []
  }
 ],
 "metadata": {
  "kernelspec": {
   "display_name": "kai",
   "language": "python",
   "name": "python3"
  },
  "language_info": {
   "codemirror_mode": {
    "name": "ipython",
    "version": 3
   },
   "file_extension": ".py",
   "mimetype": "text/x-python",
   "name": "python",
   "nbconvert_exporter": "python",
   "pygments_lexer": "ipython3",
   "version": "3.9.12"
  },
  "orig_nbformat": 4
 },
 "nbformat": 4,
 "nbformat_minor": 2
}
